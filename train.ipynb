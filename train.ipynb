{
 "cells": [
  {
   "cell_type": "code",
   "execution_count": 71,
   "metadata": {},
   "outputs": [],
   "source": [
    "import pandas as pd"
   ]
  },
  {
   "cell_type": "code",
   "execution_count": 72,
   "metadata": {},
   "outputs": [],
   "source": [
    "import matplotlib.pyplot as plt"
   ]
  },
  {
   "cell_type": "code",
   "execution_count": 73,
   "metadata": {},
   "outputs": [
    {
     "name": "stdout",
     "output_type": "stream",
     "text": [
      "      battery_power  blue  clock_speed  dual_sim    fc  four_g  int_memory  \\\n",
      "0               842     0          2.2         0   1.0     0.0         7.0   \n",
      "1              1021     1          0.5         1   0.0     1.0        53.0   \n",
      "2               563     1          0.5         1   2.0     1.0        41.0   \n",
      "3               615     1          2.5         0   0.0     0.0        10.0   \n",
      "4              1821     1          1.2         0  13.0     1.0        44.0   \n",
      "...             ...   ...          ...       ...   ...     ...         ...   \n",
      "1995            794     1          0.5         1   0.0     1.0         2.0   \n",
      "1996           1965     1          2.6         1   0.0     0.0        39.0   \n",
      "1997           1911     0          0.9         1   1.0     1.0        36.0   \n",
      "1998           1512     0          0.9         0   4.0     1.0        46.0   \n",
      "1999            510     1          2.0         1   5.0     1.0        45.0   \n",
      "\n",
      "      m_dep  mobile_wt  n_cores  ...  px_height  px_width     ram  sc_h  sc_w  \\\n",
      "0       0.6      188.0      2.0  ...       20.0     756.0  2549.0   9.0   7.0   \n",
      "1       0.7      136.0      3.0  ...      905.0    1988.0  2631.0  17.0   3.0   \n",
      "2       0.9      145.0      5.0  ...     1263.0    1716.0  2603.0  11.0   2.0   \n",
      "3       0.8      131.0      6.0  ...     1216.0    1786.0  2769.0  16.0   8.0   \n",
      "4       0.6      141.0      2.0  ...     1208.0    1212.0  1411.0   8.0   2.0   \n",
      "...     ...        ...      ...  ...        ...       ...     ...   ...   ...   \n",
      "1995    0.8      106.0      6.0  ...     1222.0    1890.0   668.0  13.0   4.0   \n",
      "1996    0.2      187.0      4.0  ...      915.0    1965.0  2032.0  11.0  10.0   \n",
      "1997    0.7      108.0      8.0  ...      868.0    1632.0  3057.0   9.0   1.0   \n",
      "1998    0.1      145.0      5.0  ...      336.0     670.0   869.0  18.0  10.0   \n",
      "1999    0.9      168.0      6.0  ...      483.0     754.0  3919.0  19.0   4.0   \n",
      "\n",
      "      talk_time  three_g  touch_screen  wifi  price_range  \n",
      "0            19        0             0     1            1  \n",
      "1             7        1             1     0            2  \n",
      "2             9        1             1     0            2  \n",
      "3            11        1             0     0            2  \n",
      "4            15        1             1     0            1  \n",
      "...         ...      ...           ...   ...          ...  \n",
      "1995         19        1             1     0            0  \n",
      "1996         16        1             1     1            2  \n",
      "1997          5        1             1     0            3  \n",
      "1998         19        1             1     1            0  \n",
      "1999          2        1             1     1            3  \n",
      "\n",
      "[1991 rows x 21 columns]\n"
     ]
    }
   ],
   "source": [
    "# Read CSV file\n",
    "df = pd.read_csv('train - train.csv', encoding='latin-1')\n",
    "df = df.dropna()\n",
    "\n",
    "# Display data\n",
    "print(df)"
   ]
  },
  {
   "cell_type": "code",
   "execution_count": 74,
   "metadata": {},
   "outputs": [
    {
     "data": {
      "text/plain": [
       "(1991, 21)"
      ]
     },
     "execution_count": 74,
     "metadata": {},
     "output_type": "execute_result"
    }
   ],
   "source": [
    "df.shape"
   ]
  },
  {
   "cell_type": "code",
   "execution_count": 75,
   "metadata": {},
   "outputs": [
    {
     "data": {
      "text/plain": [
       "battery_power      int64\n",
       "blue               int64\n",
       "clock_speed      float64\n",
       "dual_sim           int64\n",
       "fc               float64\n",
       "four_g           float64\n",
       "int_memory       float64\n",
       "m_dep            float64\n",
       "mobile_wt        float64\n",
       "n_cores          float64\n",
       "pc               float64\n",
       "px_height        float64\n",
       "px_width         float64\n",
       "ram              float64\n",
       "sc_h             float64\n",
       "sc_w             float64\n",
       "talk_time          int64\n",
       "three_g            int64\n",
       "touch_screen       int64\n",
       "wifi               int64\n",
       "price_range        int64\n",
       "dtype: object"
      ]
     },
     "execution_count": 75,
     "metadata": {},
     "output_type": "execute_result"
    }
   ],
   "source": [
    "df.dtypes"
   ]
  },
  {
   "cell_type": "code",
   "execution_count": 76,
   "metadata": {},
   "outputs": [],
   "source": [
    "train_y = df['price_range']"
   ]
  },
  {
   "cell_type": "code",
   "execution_count": 77,
   "metadata": {},
   "outputs": [
    {
     "data": {
      "text/plain": [
       "0       1\n",
       "1       2\n",
       "2       2\n",
       "3       2\n",
       "4       1\n",
       "       ..\n",
       "1995    0\n",
       "1996    2\n",
       "1997    3\n",
       "1998    0\n",
       "1999    3\n",
       "Name: price_range, Length: 1991, dtype: int64"
      ]
     },
     "execution_count": 77,
     "metadata": {},
     "output_type": "execute_result"
    }
   ],
   "source": [
    "train_y"
   ]
  },
  {
   "cell_type": "code",
   "execution_count": 78,
   "metadata": {},
   "outputs": [],
   "source": [
    "train_x = df.drop(['price_range'], axis=1)"
   ]
  },
  {
   "cell_type": "code",
   "execution_count": 79,
   "metadata": {},
   "outputs": [
    {
     "data": {
      "text/html": [
       "<div>\n",
       "<style scoped>\n",
       "    .dataframe tbody tr th:only-of-type {\n",
       "        vertical-align: middle;\n",
       "    }\n",
       "\n",
       "    .dataframe tbody tr th {\n",
       "        vertical-align: top;\n",
       "    }\n",
       "\n",
       "    .dataframe thead th {\n",
       "        text-align: right;\n",
       "    }\n",
       "</style>\n",
       "<table border=\"1\" class=\"dataframe\">\n",
       "  <thead>\n",
       "    <tr style=\"text-align: right;\">\n",
       "      <th></th>\n",
       "      <th>battery_power</th>\n",
       "      <th>blue</th>\n",
       "      <th>clock_speed</th>\n",
       "      <th>dual_sim</th>\n",
       "      <th>fc</th>\n",
       "      <th>four_g</th>\n",
       "      <th>int_memory</th>\n",
       "      <th>m_dep</th>\n",
       "      <th>mobile_wt</th>\n",
       "      <th>n_cores</th>\n",
       "      <th>pc</th>\n",
       "      <th>px_height</th>\n",
       "      <th>px_width</th>\n",
       "      <th>ram</th>\n",
       "      <th>sc_h</th>\n",
       "      <th>sc_w</th>\n",
       "      <th>talk_time</th>\n",
       "      <th>three_g</th>\n",
       "      <th>touch_screen</th>\n",
       "      <th>wifi</th>\n",
       "    </tr>\n",
       "  </thead>\n",
       "  <tbody>\n",
       "    <tr>\n",
       "      <th>0</th>\n",
       "      <td>842</td>\n",
       "      <td>0</td>\n",
       "      <td>2.2</td>\n",
       "      <td>0</td>\n",
       "      <td>1.0</td>\n",
       "      <td>0.0</td>\n",
       "      <td>7.0</td>\n",
       "      <td>0.6</td>\n",
       "      <td>188.0</td>\n",
       "      <td>2.0</td>\n",
       "      <td>2.0</td>\n",
       "      <td>20.0</td>\n",
       "      <td>756.0</td>\n",
       "      <td>2549.0</td>\n",
       "      <td>9.0</td>\n",
       "      <td>7.0</td>\n",
       "      <td>19</td>\n",
       "      <td>0</td>\n",
       "      <td>0</td>\n",
       "      <td>1</td>\n",
       "    </tr>\n",
       "    <tr>\n",
       "      <th>1</th>\n",
       "      <td>1021</td>\n",
       "      <td>1</td>\n",
       "      <td>0.5</td>\n",
       "      <td>1</td>\n",
       "      <td>0.0</td>\n",
       "      <td>1.0</td>\n",
       "      <td>53.0</td>\n",
       "      <td>0.7</td>\n",
       "      <td>136.0</td>\n",
       "      <td>3.0</td>\n",
       "      <td>6.0</td>\n",
       "      <td>905.0</td>\n",
       "      <td>1988.0</td>\n",
       "      <td>2631.0</td>\n",
       "      <td>17.0</td>\n",
       "      <td>3.0</td>\n",
       "      <td>7</td>\n",
       "      <td>1</td>\n",
       "      <td>1</td>\n",
       "      <td>0</td>\n",
       "    </tr>\n",
       "    <tr>\n",
       "      <th>2</th>\n",
       "      <td>563</td>\n",
       "      <td>1</td>\n",
       "      <td>0.5</td>\n",
       "      <td>1</td>\n",
       "      <td>2.0</td>\n",
       "      <td>1.0</td>\n",
       "      <td>41.0</td>\n",
       "      <td>0.9</td>\n",
       "      <td>145.0</td>\n",
       "      <td>5.0</td>\n",
       "      <td>6.0</td>\n",
       "      <td>1263.0</td>\n",
       "      <td>1716.0</td>\n",
       "      <td>2603.0</td>\n",
       "      <td>11.0</td>\n",
       "      <td>2.0</td>\n",
       "      <td>9</td>\n",
       "      <td>1</td>\n",
       "      <td>1</td>\n",
       "      <td>0</td>\n",
       "    </tr>\n",
       "    <tr>\n",
       "      <th>3</th>\n",
       "      <td>615</td>\n",
       "      <td>1</td>\n",
       "      <td>2.5</td>\n",
       "      <td>0</td>\n",
       "      <td>0.0</td>\n",
       "      <td>0.0</td>\n",
       "      <td>10.0</td>\n",
       "      <td>0.8</td>\n",
       "      <td>131.0</td>\n",
       "      <td>6.0</td>\n",
       "      <td>9.0</td>\n",
       "      <td>1216.0</td>\n",
       "      <td>1786.0</td>\n",
       "      <td>2769.0</td>\n",
       "      <td>16.0</td>\n",
       "      <td>8.0</td>\n",
       "      <td>11</td>\n",
       "      <td>1</td>\n",
       "      <td>0</td>\n",
       "      <td>0</td>\n",
       "    </tr>\n",
       "    <tr>\n",
       "      <th>4</th>\n",
       "      <td>1821</td>\n",
       "      <td>1</td>\n",
       "      <td>1.2</td>\n",
       "      <td>0</td>\n",
       "      <td>13.0</td>\n",
       "      <td>1.0</td>\n",
       "      <td>44.0</td>\n",
       "      <td>0.6</td>\n",
       "      <td>141.0</td>\n",
       "      <td>2.0</td>\n",
       "      <td>14.0</td>\n",
       "      <td>1208.0</td>\n",
       "      <td>1212.0</td>\n",
       "      <td>1411.0</td>\n",
       "      <td>8.0</td>\n",
       "      <td>2.0</td>\n",
       "      <td>15</td>\n",
       "      <td>1</td>\n",
       "      <td>1</td>\n",
       "      <td>0</td>\n",
       "    </tr>\n",
       "    <tr>\n",
       "      <th>...</th>\n",
       "      <td>...</td>\n",
       "      <td>...</td>\n",
       "      <td>...</td>\n",
       "      <td>...</td>\n",
       "      <td>...</td>\n",
       "      <td>...</td>\n",
       "      <td>...</td>\n",
       "      <td>...</td>\n",
       "      <td>...</td>\n",
       "      <td>...</td>\n",
       "      <td>...</td>\n",
       "      <td>...</td>\n",
       "      <td>...</td>\n",
       "      <td>...</td>\n",
       "      <td>...</td>\n",
       "      <td>...</td>\n",
       "      <td>...</td>\n",
       "      <td>...</td>\n",
       "      <td>...</td>\n",
       "      <td>...</td>\n",
       "    </tr>\n",
       "    <tr>\n",
       "      <th>1995</th>\n",
       "      <td>794</td>\n",
       "      <td>1</td>\n",
       "      <td>0.5</td>\n",
       "      <td>1</td>\n",
       "      <td>0.0</td>\n",
       "      <td>1.0</td>\n",
       "      <td>2.0</td>\n",
       "      <td>0.8</td>\n",
       "      <td>106.0</td>\n",
       "      <td>6.0</td>\n",
       "      <td>14.0</td>\n",
       "      <td>1222.0</td>\n",
       "      <td>1890.0</td>\n",
       "      <td>668.0</td>\n",
       "      <td>13.0</td>\n",
       "      <td>4.0</td>\n",
       "      <td>19</td>\n",
       "      <td>1</td>\n",
       "      <td>1</td>\n",
       "      <td>0</td>\n",
       "    </tr>\n",
       "    <tr>\n",
       "      <th>1996</th>\n",
       "      <td>1965</td>\n",
       "      <td>1</td>\n",
       "      <td>2.6</td>\n",
       "      <td>1</td>\n",
       "      <td>0.0</td>\n",
       "      <td>0.0</td>\n",
       "      <td>39.0</td>\n",
       "      <td>0.2</td>\n",
       "      <td>187.0</td>\n",
       "      <td>4.0</td>\n",
       "      <td>3.0</td>\n",
       "      <td>915.0</td>\n",
       "      <td>1965.0</td>\n",
       "      <td>2032.0</td>\n",
       "      <td>11.0</td>\n",
       "      <td>10.0</td>\n",
       "      <td>16</td>\n",
       "      <td>1</td>\n",
       "      <td>1</td>\n",
       "      <td>1</td>\n",
       "    </tr>\n",
       "    <tr>\n",
       "      <th>1997</th>\n",
       "      <td>1911</td>\n",
       "      <td>0</td>\n",
       "      <td>0.9</td>\n",
       "      <td>1</td>\n",
       "      <td>1.0</td>\n",
       "      <td>1.0</td>\n",
       "      <td>36.0</td>\n",
       "      <td>0.7</td>\n",
       "      <td>108.0</td>\n",
       "      <td>8.0</td>\n",
       "      <td>3.0</td>\n",
       "      <td>868.0</td>\n",
       "      <td>1632.0</td>\n",
       "      <td>3057.0</td>\n",
       "      <td>9.0</td>\n",
       "      <td>1.0</td>\n",
       "      <td>5</td>\n",
       "      <td>1</td>\n",
       "      <td>1</td>\n",
       "      <td>0</td>\n",
       "    </tr>\n",
       "    <tr>\n",
       "      <th>1998</th>\n",
       "      <td>1512</td>\n",
       "      <td>0</td>\n",
       "      <td>0.9</td>\n",
       "      <td>0</td>\n",
       "      <td>4.0</td>\n",
       "      <td>1.0</td>\n",
       "      <td>46.0</td>\n",
       "      <td>0.1</td>\n",
       "      <td>145.0</td>\n",
       "      <td>5.0</td>\n",
       "      <td>5.0</td>\n",
       "      <td>336.0</td>\n",
       "      <td>670.0</td>\n",
       "      <td>869.0</td>\n",
       "      <td>18.0</td>\n",
       "      <td>10.0</td>\n",
       "      <td>19</td>\n",
       "      <td>1</td>\n",
       "      <td>1</td>\n",
       "      <td>1</td>\n",
       "    </tr>\n",
       "    <tr>\n",
       "      <th>1999</th>\n",
       "      <td>510</td>\n",
       "      <td>1</td>\n",
       "      <td>2.0</td>\n",
       "      <td>1</td>\n",
       "      <td>5.0</td>\n",
       "      <td>1.0</td>\n",
       "      <td>45.0</td>\n",
       "      <td>0.9</td>\n",
       "      <td>168.0</td>\n",
       "      <td>6.0</td>\n",
       "      <td>16.0</td>\n",
       "      <td>483.0</td>\n",
       "      <td>754.0</td>\n",
       "      <td>3919.0</td>\n",
       "      <td>19.0</td>\n",
       "      <td>4.0</td>\n",
       "      <td>2</td>\n",
       "      <td>1</td>\n",
       "      <td>1</td>\n",
       "      <td>1</td>\n",
       "    </tr>\n",
       "  </tbody>\n",
       "</table>\n",
       "<p>1991 rows × 20 columns</p>\n",
       "</div>"
      ],
      "text/plain": [
       "      battery_power  blue  clock_speed  dual_sim    fc  four_g  int_memory  \\\n",
       "0               842     0          2.2         0   1.0     0.0         7.0   \n",
       "1              1021     1          0.5         1   0.0     1.0        53.0   \n",
       "2               563     1          0.5         1   2.0     1.0        41.0   \n",
       "3               615     1          2.5         0   0.0     0.0        10.0   \n",
       "4              1821     1          1.2         0  13.0     1.0        44.0   \n",
       "...             ...   ...          ...       ...   ...     ...         ...   \n",
       "1995            794     1          0.5         1   0.0     1.0         2.0   \n",
       "1996           1965     1          2.6         1   0.0     0.0        39.0   \n",
       "1997           1911     0          0.9         1   1.0     1.0        36.0   \n",
       "1998           1512     0          0.9         0   4.0     1.0        46.0   \n",
       "1999            510     1          2.0         1   5.0     1.0        45.0   \n",
       "\n",
       "      m_dep  mobile_wt  n_cores    pc  px_height  px_width     ram  sc_h  \\\n",
       "0       0.6      188.0      2.0   2.0       20.0     756.0  2549.0   9.0   \n",
       "1       0.7      136.0      3.0   6.0      905.0    1988.0  2631.0  17.0   \n",
       "2       0.9      145.0      5.0   6.0     1263.0    1716.0  2603.0  11.0   \n",
       "3       0.8      131.0      6.0   9.0     1216.0    1786.0  2769.0  16.0   \n",
       "4       0.6      141.0      2.0  14.0     1208.0    1212.0  1411.0   8.0   \n",
       "...     ...        ...      ...   ...        ...       ...     ...   ...   \n",
       "1995    0.8      106.0      6.0  14.0     1222.0    1890.0   668.0  13.0   \n",
       "1996    0.2      187.0      4.0   3.0      915.0    1965.0  2032.0  11.0   \n",
       "1997    0.7      108.0      8.0   3.0      868.0    1632.0  3057.0   9.0   \n",
       "1998    0.1      145.0      5.0   5.0      336.0     670.0   869.0  18.0   \n",
       "1999    0.9      168.0      6.0  16.0      483.0     754.0  3919.0  19.0   \n",
       "\n",
       "      sc_w  talk_time  three_g  touch_screen  wifi  \n",
       "0      7.0         19        0             0     1  \n",
       "1      3.0          7        1             1     0  \n",
       "2      2.0          9        1             1     0  \n",
       "3      8.0         11        1             0     0  \n",
       "4      2.0         15        1             1     0  \n",
       "...    ...        ...      ...           ...   ...  \n",
       "1995   4.0         19        1             1     0  \n",
       "1996  10.0         16        1             1     1  \n",
       "1997   1.0          5        1             1     0  \n",
       "1998  10.0         19        1             1     1  \n",
       "1999   4.0          2        1             1     1  \n",
       "\n",
       "[1991 rows x 20 columns]"
      ]
     },
     "execution_count": 79,
     "metadata": {},
     "output_type": "execute_result"
    }
   ],
   "source": [
    "train_x"
   ]
  },
  {
   "cell_type": "code",
   "execution_count": 80,
   "metadata": {},
   "outputs": [],
   "source": [
    "corr_mat = train_x.corrwith(train_y)"
   ]
  },
  {
   "cell_type": "code",
   "execution_count": 81,
   "metadata": {},
   "outputs": [
    {
     "name": "stdout",
     "output_type": "stream",
     "text": [
      "battery_power    0.199277\n",
      "blue             0.021330\n",
      "clock_speed     -0.006675\n",
      "dual_sim         0.019108\n",
      "fc               0.024738\n",
      "four_g           0.015537\n",
      "int_memory       0.041812\n",
      "m_dep           -0.001396\n",
      "mobile_wt       -0.032168\n",
      "n_cores          0.004662\n",
      "pc               0.034716\n",
      "px_height        0.147956\n",
      "px_width         0.163319\n",
      "ram              0.917448\n",
      "sc_h             0.021643\n",
      "sc_w             0.038371\n",
      "talk_time        0.020511\n",
      "three_g          0.024896\n",
      "touch_screen    -0.030315\n",
      "wifi             0.019546\n",
      "dtype: float64\n"
     ]
    }
   ],
   "source": [
    "print(corr_mat)"
   ]
  },
  {
   "cell_type": "code",
   "execution_count": 82,
   "metadata": {},
   "outputs": [
    {
     "data": {
      "image/png": "[encoded data removed]",
      "text/plain": [
       "<Figure size 720x432 with 1 Axes>"
      ]
     },
     "metadata": {
      "needs_background": "light"
     },
     "output_type": "display_data"
    }
   ],
   "source": [
    "# Plot correlation\n",
    "plt.figure(figsize=(10, 6))\n",
    "corr_mat.plot(kind='bar', color='skyblue')\n",
    "plt.title('Correlation Matrix')\n",
    "plt.xlabel('Features')\n",
    "plt.ylabel('Correlation Coefficient')\n",
    "plt.xticks(rotation=45)\n",
    "plt.grid(axis='y', linestyle='--', alpha=0.7)\n",
    "plt.show()"
   ]
  },
  {
   "cell_type": "markdown",
   "metadata": {},
   "source": [
    "### As we can see from the above fig, there are some features that are correlated with the price range and some other are not, So we are going to choose those correlated features and drop the other."
   ]
  },
  {
   "cell_type": "markdown",
   "metadata": {},
   "source": [
    "#### Let's drop the columns that has correlation coefficient less than abs (0.01)"
   ]
  },
  {
   "cell_type": "code",
   "execution_count": 83,
   "metadata": {},
   "outputs": [],
   "source": [
    "# Filter columns with correlation coefficient less than 0.01\n",
    "filtered_columns = corr_mat[abs(corr_mat) >= 0.01].index.tolist()\n",
    "\n",
    "# Drop columns from DataFrame\n",
    "train_x = train_x[filtered_columns]"
   ]
  },
  {
   "cell_type": "code",
   "execution_count": 113,
   "metadata": {},
   "outputs": [
    {
     "name": "stdout",
     "output_type": "stream",
     "text": [
      "Indices of columns: [0, 1, 3, 4, 5, 6, 8, 10, 11, 12, 13, 14, 15, 16, 17, 18, 19]\n"
     ]
    }
   ],
   "source": [
    "column_indices = [df.columns.get_loc(col_name) for col_name in filtered_columns]\n",
    "\n",
    "print(\"Indices of columns:\", column_indices)"
   ]
  },
  {
   "cell_type": "code",
   "execution_count": 84,
   "metadata": {},
   "outputs": [
    {
     "data": {
      "text/plain": [
       "['battery_power',\n",
       " 'blue',\n",
       " 'dual_sim',\n",
       " 'fc',\n",
       " 'four_g',\n",
       " 'int_memory',\n",
       " 'mobile_wt',\n",
       " 'pc',\n",
       " 'px_height',\n",
       " 'px_width',\n",
       " 'ram',\n",
       " 'sc_h',\n",
       " 'sc_w',\n",
       " 'talk_time',\n",
       " 'three_g',\n",
       " 'touch_screen',\n",
       " 'wifi']"
      ]
     },
     "execution_count": 84,
     "metadata": {},
     "output_type": "execute_result"
    }
   ],
   "source": [
    "filtered_columns"
   ]
  },
  {
   "cell_type": "code",
   "execution_count": 85,
   "metadata": {},
   "outputs": [
    {
     "data": {
      "text/html": [
       "<div>\n",
       "<style scoped>\n",
       "    .dataframe tbody tr th:only-of-type {\n",
       "        vertical-align: middle;\n",
       "    }\n",
       "\n",
       "    .dataframe tbody tr th {\n",
       "        vertical-align: top;\n",
       "    }\n",
       "\n",
       "    .dataframe thead th {\n",
       "        text-align: right;\n",
       "    }\n",
       "</style>\n",
       "<table border=\"1\" class=\"dataframe\">\n",
       "  <thead>\n",
       "    <tr style=\"text-align: right;\">\n",
       "      <th></th>\n",
       "      <th>battery_power</th>\n",
       "      <th>blue</th>\n",
       "      <th>dual_sim</th>\n",
       "      <th>fc</th>\n",
       "      <th>four_g</th>\n",
       "      <th>int_memory</th>\n",
       "      <th>mobile_wt</th>\n",
       "      <th>pc</th>\n",
       "      <th>px_height</th>\n",
       "      <th>px_width</th>\n",
       "      <th>ram</th>\n",
       "      <th>sc_h</th>\n",
       "      <th>sc_w</th>\n",
       "      <th>talk_time</th>\n",
       "      <th>three_g</th>\n",
       "      <th>touch_screen</th>\n",
       "      <th>wifi</th>\n",
       "    </tr>\n",
       "  </thead>\n",
       "  <tbody>\n",
       "    <tr>\n",
       "      <th>0</th>\n",
       "      <td>842</td>\n",
       "      <td>0</td>\n",
       "      <td>0</td>\n",
       "      <td>1.0</td>\n",
       "      <td>0.0</td>\n",
       "      <td>7.0</td>\n",
       "      <td>188.0</td>\n",
       "      <td>2.0</td>\n",
       "      <td>20.0</td>\n",
       "      <td>756.0</td>\n",
       "      <td>2549.0</td>\n",
       "      <td>9.0</td>\n",
       "      <td>7.0</td>\n",
       "      <td>19</td>\n",
       "      <td>0</td>\n",
       "      <td>0</td>\n",
       "      <td>1</td>\n",
       "    </tr>\n",
       "    <tr>\n",
       "      <th>1</th>\n",
       "      <td>1021</td>\n",
       "      <td>1</td>\n",
       "      <td>1</td>\n",
       "      <td>0.0</td>\n",
       "      <td>1.0</td>\n",
       "      <td>53.0</td>\n",
       "      <td>136.0</td>\n",
       "      <td>6.0</td>\n",
       "      <td>905.0</td>\n",
       "      <td>1988.0</td>\n",
       "      <td>2631.0</td>\n",
       "      <td>17.0</td>\n",
       "      <td>3.0</td>\n",
       "      <td>7</td>\n",
       "      <td>1</td>\n",
       "      <td>1</td>\n",
       "      <td>0</td>\n",
       "    </tr>\n",
       "    <tr>\n",
       "      <th>2</th>\n",
       "      <td>563</td>\n",
       "      <td>1</td>\n",
       "      <td>1</td>\n",
       "      <td>2.0</td>\n",
       "      <td>1.0</td>\n",
       "      <td>41.0</td>\n",
       "      <td>145.0</td>\n",
       "      <td>6.0</td>\n",
       "      <td>1263.0</td>\n",
       "      <td>1716.0</td>\n",
       "      <td>2603.0</td>\n",
       "      <td>11.0</td>\n",
       "      <td>2.0</td>\n",
       "      <td>9</td>\n",
       "      <td>1</td>\n",
       "      <td>1</td>\n",
       "      <td>0</td>\n",
       "    </tr>\n",
       "    <tr>\n",
       "      <th>3</th>\n",
       "      <td>615</td>\n",
       "      <td>1</td>\n",
       "      <td>0</td>\n",
       "      <td>0.0</td>\n",
       "      <td>0.0</td>\n",
       "      <td>10.0</td>\n",
       "      <td>131.0</td>\n",
       "      <td>9.0</td>\n",
       "      <td>1216.0</td>\n",
       "      <td>1786.0</td>\n",
       "      <td>2769.0</td>\n",
       "      <td>16.0</td>\n",
       "      <td>8.0</td>\n",
       "      <td>11</td>\n",
       "      <td>1</td>\n",
       "      <td>0</td>\n",
       "      <td>0</td>\n",
       "    </tr>\n",
       "    <tr>\n",
       "      <th>4</th>\n",
       "      <td>1821</td>\n",
       "      <td>1</td>\n",
       "      <td>0</td>\n",
       "      <td>13.0</td>\n",
       "      <td>1.0</td>\n",
       "      <td>44.0</td>\n",
       "      <td>141.0</td>\n",
       "      <td>14.0</td>\n",
       "      <td>1208.0</td>\n",
       "      <td>1212.0</td>\n",
       "      <td>1411.0</td>\n",
       "      <td>8.0</td>\n",
       "      <td>2.0</td>\n",
       "      <td>15</td>\n",
       "      <td>1</td>\n",
       "      <td>1</td>\n",
       "      <td>0</td>\n",
       "    </tr>\n",
       "    <tr>\n",
       "      <th>...</th>\n",
       "      <td>...</td>\n",
       "      <td>...</td>\n",
       "      <td>...</td>\n",
       "      <td>...</td>\n",
       "      <td>...</td>\n",
       "      <td>...</td>\n",
       "      <td>...</td>\n",
       "      <td>...</td>\n",
       "      <td>...</td>\n",
       "      <td>...</td>\n",
       "      <td>...</td>\n",
       "      <td>...</td>\n",
       "      <td>...</td>\n",
       "      <td>...</td>\n",
       "      <td>...</td>\n",
       "      <td>...</td>\n",
       "      <td>...</td>\n",
       "    </tr>\n",
       "    <tr>\n",
       "      <th>1995</th>\n",
       "      <td>794</td>\n",
       "      <td>1</td>\n",
       "      <td>1</td>\n",
       "      <td>0.0</td>\n",
       "      <td>1.0</td>\n",
       "      <td>2.0</td>\n",
       "      <td>106.0</td>\n",
       "      <td>14.0</td>\n",
       "      <td>1222.0</td>\n",
       "      <td>1890.0</td>\n",
       "      <td>668.0</td>\n",
       "      <td>13.0</td>\n",
       "      <td>4.0</td>\n",
       "      <td>19</td>\n",
       "      <td>1</td>\n",
       "      <td>1</td>\n",
       "      <td>0</td>\n",
       "    </tr>\n",
       "    <tr>\n",
       "      <th>1996</th>\n",
       "      <td>1965</td>\n",
       "      <td>1</td>\n",
       "      <td>1</td>\n",
       "      <td>0.0</td>\n",
       "      <td>0.0</td>\n",
       "      <td>39.0</td>\n",
       "      <td>187.0</td>\n",
       "      <td>3.0</td>\n",
       "      <td>915.0</td>\n",
       "      <td>1965.0</td>\n",
       "      <td>2032.0</td>\n",
       "      <td>11.0</td>\n",
       "      <td>10.0</td>\n",
       "      <td>16</td>\n",
       "      <td>1</td>\n",
       "      <td>1</td>\n",
       "      <td>1</td>\n",
       "    </tr>\n",
       "    <tr>\n",
       "      <th>1997</th>\n",
       "      <td>1911</td>\n",
       "      <td>0</td>\n",
       "      <td>1</td>\n",
       "      <td>1.0</td>\n",
       "      <td>1.0</td>\n",
       "      <td>36.0</td>\n",
       "      <td>108.0</td>\n",
       "      <td>3.0</td>\n",
       "      <td>868.0</td>\n",
       "      <td>1632.0</td>\n",
       "      <td>3057.0</td>\n",
       "      <td>9.0</td>\n",
       "      <td>1.0</td>\n",
       "      <td>5</td>\n",
       "      <td>1</td>\n",
       "      <td>1</td>\n",
       "      <td>0</td>\n",
       "    </tr>\n",
       "    <tr>\n",
       "      <th>1998</th>\n",
       "      <td>1512</td>\n",
       "      <td>0</td>\n",
       "      <td>0</td>\n",
       "      <td>4.0</td>\n",
       "      <td>1.0</td>\n",
       "      <td>46.0</td>\n",
       "      <td>145.0</td>\n",
       "      <td>5.0</td>\n",
       "      <td>336.0</td>\n",
       "      <td>670.0</td>\n",
       "      <td>869.0</td>\n",
       "      <td>18.0</td>\n",
       "      <td>10.0</td>\n",
       "      <td>19</td>\n",
       "      <td>1</td>\n",
       "      <td>1</td>\n",
       "      <td>1</td>\n",
       "    </tr>\n",
       "    <tr>\n",
       "      <th>1999</th>\n",
       "      <td>510</td>\n",
       "      <td>1</td>\n",
       "      <td>1</td>\n",
       "      <td>5.0</td>\n",
       "      <td>1.0</td>\n",
       "      <td>45.0</td>\n",
       "      <td>168.0</td>\n",
       "      <td>16.0</td>\n",
       "      <td>483.0</td>\n",
       "      <td>754.0</td>\n",
       "      <td>3919.0</td>\n",
       "      <td>19.0</td>\n",
       "      <td>4.0</td>\n",
       "      <td>2</td>\n",
       "      <td>1</td>\n",
       "      <td>1</td>\n",
       "      <td>1</td>\n",
       "    </tr>\n",
       "  </tbody>\n",
       "</table>\n",
       "<p>1991 rows × 17 columns</p>\n",
       "</div>"
      ],
      "text/plain": [
       "      battery_power  blue  dual_sim    fc  four_g  int_memory  mobile_wt  \\\n",
       "0               842     0         0   1.0     0.0         7.0      188.0   \n",
       "1              1021     1         1   0.0     1.0        53.0      136.0   \n",
       "2               563     1         1   2.0     1.0        41.0      145.0   \n",
       "3               615     1         0   0.0     0.0        10.0      131.0   \n",
       "4              1821     1         0  13.0     1.0        44.0      141.0   \n",
       "...             ...   ...       ...   ...     ...         ...        ...   \n",
       "1995            794     1         1   0.0     1.0         2.0      106.0   \n",
       "1996           1965     1         1   0.0     0.0        39.0      187.0   \n",
       "1997           1911     0         1   1.0     1.0        36.0      108.0   \n",
       "1998           1512     0         0   4.0     1.0        46.0      145.0   \n",
       "1999            510     1         1   5.0     1.0        45.0      168.0   \n",
       "\n",
       "        pc  px_height  px_width     ram  sc_h  sc_w  talk_time  three_g  \\\n",
       "0      2.0       20.0     756.0  2549.0   9.0   7.0         19        0   \n",
       "1      6.0      905.0    1988.0  2631.0  17.0   3.0          7        1   \n",
       "2      6.0     1263.0    1716.0  2603.0  11.0   2.0          9        1   \n",
       "3      9.0     1216.0    1786.0  2769.0  16.0   8.0         11        1   \n",
       "4     14.0     1208.0    1212.0  1411.0   8.0   2.0         15        1   \n",
       "...    ...        ...       ...     ...   ...   ...        ...      ...   \n",
       "1995  14.0     1222.0    1890.0   668.0  13.0   4.0         19        1   \n",
       "1996   3.0      915.0    1965.0  2032.0  11.0  10.0         16        1   \n",
       "1997   3.0      868.0    1632.0  3057.0   9.0   1.0          5        1   \n",
       "1998   5.0      336.0     670.0   869.0  18.0  10.0         19        1   \n",
       "1999  16.0      483.0     754.0  3919.0  19.0   4.0          2        1   \n",
       "\n",
       "      touch_screen  wifi  \n",
       "0                0     1  \n",
       "1                1     0  \n",
       "2                1     0  \n",
       "3                0     0  \n",
       "4                1     0  \n",
       "...            ...   ...  \n",
       "1995             1     0  \n",
       "1996             1     1  \n",
       "1997             1     0  \n",
       "1998             1     1  \n",
       "1999             1     1  \n",
       "\n",
       "[1991 rows x 17 columns]"
      ]
     },
     "execution_count": 85,
     "metadata": {},
     "output_type": "execute_result"
    }
   ],
   "source": [
    "train_x"
   ]
  },
  {
   "cell_type": "markdown",
   "metadata": {},
   "source": [
    "### Apply some features transformation"
   ]
  },
  {
   "cell_type": "markdown",
   "metadata": {},
   "source": [
    "#### 1-Standardization"
   ]
  },
  {
   "cell_type": "code",
   "execution_count": 86,
   "metadata": {},
   "outputs": [
    {
     "name": "stdout",
     "output_type": "stream",
     "text": [
      "      battery_power      blue  dual_sim        fc    four_g  int_memory  \\\n",
      "0         -0.901577 -0.992494 -1.021836 -0.762424 -1.042594   -1.382754   \n",
      "1         -0.494324  1.007562  0.978631 -0.992910  0.959146    1.153971   \n",
      "2         -1.536345  1.007562  0.978631 -0.531937  0.959146    0.492216   \n",
      "3         -1.418037  1.007562 -1.021836 -0.992910 -1.042594   -1.217315   \n",
      "4          1.325799  1.007562 -1.021836  2.003417  0.959146    0.657655   \n",
      "...             ...       ...       ...       ...       ...         ...   \n",
      "1986      -1.010784  1.007562  0.978631 -0.992910  0.959146   -1.658485   \n",
      "1987       1.653421  1.007562  0.978631 -0.992910 -1.042594    0.381924   \n",
      "1988       1.530563 -0.992494  0.978631 -0.762424  0.959146    0.216485   \n",
      "1989       0.622776 -0.992494 -1.021836 -0.070964  0.959146    0.767947   \n",
      "1990      -1.656928  1.007562  0.978631  0.159523  0.959146    0.712801   \n",
      "\n",
      "      mobile_wt        pc  px_height  px_width       ram      sc_h      sc_w  \\\n",
      "0      1.348883 -1.305239  -1.410895 -1.146588  0.392123 -0.785347  0.281321   \n",
      "1     -0.120463 -0.645118   0.587570  1.706476  0.467715  1.113987 -0.636892   \n",
      "2      0.133847 -0.645118   1.395989  1.076579  0.441903 -0.310514 -0.866445   \n",
      "3     -0.261747 -0.150027   1.289856  1.238685  0.594930  0.876570  0.510874   \n",
      "4      0.020820  0.675124   1.271790 -0.090584 -0.656938 -1.022764 -0.866445   \n",
      "...         ...       ...        ...       ...       ...       ...       ...   \n",
      "1986  -0.968163  0.675124   1.303405  1.479528 -1.341871  0.164320 -0.407339   \n",
      "1987   1.320626 -1.140209   0.610152  1.653213 -0.084471 -0.310514  0.969980   \n",
      "1988  -0.911650 -1.140209   0.504018  0.882052  0.860422 -0.785347 -1.095998   \n",
      "1989   0.133847 -0.810148  -0.697319 -1.345747 -1.156579  1.351403  0.969980   \n",
      "1990   0.783750  1.005184  -0.365371 -1.151220  1.655054  1.588820 -0.407339   \n",
      "\n",
      "      talk_time   three_g  touch_screen      wifi  \n",
      "0      1.463987 -1.784033     -1.003522  0.989508  \n",
      "1     -0.732407  0.560528      0.996490 -1.010604  \n",
      "2     -0.366342  0.560528      0.996490 -1.010604  \n",
      "3     -0.000276  0.560528     -1.003522 -1.010604  \n",
      "4      0.731856  0.560528      0.996490 -1.010604  \n",
      "...         ...       ...           ...       ...  \n",
      "1986   1.463987  0.560528      0.996490 -1.010604  \n",
      "1987   0.914889  0.560528      0.996490  0.989508  \n",
      "1988  -1.098473  0.560528      0.996490 -1.010604  \n",
      "1989   1.463987  0.560528      0.996490  0.989508  \n",
      "1990  -1.647572  0.560528      0.996490  0.989508  \n",
      "\n",
      "[1991 rows x 17 columns]\n"
     ]
    }
   ],
   "source": [
    "from sklearn.preprocessing import StandardScaler\n",
    "\n",
    "# Assuming df is your DataFrame\n",
    "\n",
    "# Initialize the StandardScaler\n",
    "scaler = StandardScaler()\n",
    "\n",
    "# Apply standardization to your DataFrame\n",
    "train_x_standardized = scaler.fit_transform(train_x)\n",
    "\n",
    "# Convert the standardized array back to a DataFrame\n",
    "train_x_standardized = pd.DataFrame(train_x_standardized, columns=train_x.columns)\n",
    "\n",
    "# Print the standardized DataFrame\n",
    "print(train_x_standardized)"
   ]
  },
  {
   "cell_type": "markdown",
   "metadata": {},
   "source": [
    "### Save the scaler model to re-use it"
   ]
  },
  {
   "cell_type": "code",
   "execution_count": 102,
   "metadata": {},
   "outputs": [
    {
     "name": "stdout",
     "output_type": "stream",
     "text": [
      "Scaler model saved as scaler.pickle\n"
     ]
    }
   ],
   "source": [
    "import pickle\n",
    "\n",
    "# Assuming 'scaler' is your trained scaler object\n",
    "# Replace 'scaler' with your actual trained scaler object\n",
    "\n",
    "# Save the scaler model to a pickle file\n",
    "with open('scaler.pickle', 'wb') as f:\n",
    "    pickle.dump(scaler, f)\n",
    "\n",
    "print(\"Scaler model saved as scaler.pickle\")"
   ]
  },
  {
   "cell_type": "markdown",
   "metadata": {},
   "source": [
    "### Let's Use SVM to predict "
   ]
  },
  {
   "cell_type": "code",
   "execution_count": 87,
   "metadata": {},
   "outputs": [],
   "source": [
    "X = train_x_standardized\n",
    "y = train_y"
   ]
  },
  {
   "cell_type": "code",
   "execution_count": 88,
   "metadata": {},
   "outputs": [
    {
     "name": "stdout",
     "output_type": "stream",
     "text": [
      "Accuracy: 0.8671679197994987\n"
     ]
    }
   ],
   "source": [
    "from sklearn.model_selection import train_test_split\n",
    "from sklearn.svm import SVC\n",
    "from sklearn.metrics import accuracy_score\n",
    "\n",
    "# Split the data into training and testing sets\n",
    "X_train, X_test, y_train, y_test = train_test_split(X, y, test_size=0.2, random_state=42)\n",
    "\n",
    "# Initialize SVM classifier\n",
    "svm_classifier = SVC()\n",
    "\n",
    "# Train the SVM classifier\n",
    "svm_classifier.fit(X_train, y_train)\n",
    "\n",
    "# Predict on the testing set\n",
    "y_pred = svm_classifier.predict(X_test)\n",
    "\n",
    "# Evaluate the model\n",
    "accuracy = accuracy_score(y_test, y_pred)\n",
    "print(\"Accuracy:\", accuracy)"
   ]
  },
  {
   "cell_type": "markdown",
   "metadata": {},
   "source": [
    "### Confusion matrix"
   ]
  },
  {
   "cell_type": "code",
   "execution_count": 99,
   "metadata": {},
   "outputs": [
    {
     "name": "stdout",
     "output_type": "stream",
     "text": [
      "Confusion Matrix:\n",
      "[[95 11  0  0]\n",
      " [ 8 75  6  0]\n",
      " [ 0  7 89 11]\n",
      " [ 0  0 10 87]]\n"
     ]
    }
   ],
   "source": [
    "from sklearn.metrics import confusion_matrix\n",
    "import numpy as np\n",
    "\n",
    "# Assuming 'y_true' is the true labels and 'y_pred' is the predicted labels\n",
    "# Replace these with your actual true and predicted labels\n",
    "\n",
    "# Generate confusion matrix\n",
    "cm = confusion_matrix(y_test, y_pred)\n",
    "\n",
    "# Print confusion matrix\n",
    "print(\"Confusion Matrix:\")\n",
    "print(cm)"
   ]
  },
  {
   "cell_type": "markdown",
   "metadata": {},
   "source": [
    "### Save the model"
   ]
  },
  {
   "cell_type": "code",
   "execution_count": 100,
   "metadata": {},
   "outputs": [
    {
     "name": "stdout",
     "output_type": "stream",
     "text": [
      "Model saved as model.pickle\n"
     ]
    }
   ],
   "source": [
    "import pickle\n",
    "\n",
    "# Assuming 'model' is your trained model object\n",
    "# Replace 'model' with your actual trained model object\n",
    "\n",
    "# Save the model to a pickle file\n",
    "with open('model.pickle', 'wb') as f:\n",
    "    pickle.dump(svm_classifier, f)\n",
    "\n",
    "print(\"Model saved as model.pickle\")"
   ]
  },
  {
   "cell_type": "code",
   "execution_count": 101,
   "metadata": {},
   "outputs": [
    {
     "data": {
      "text/plain": [
       "['battery_power',\n",
       " 'blue',\n",
       " 'dual_sim',\n",
       " 'fc',\n",
       " 'four_g',\n",
       " 'int_memory',\n",
       " 'mobile_wt',\n",
       " 'pc',\n",
       " 'px_height',\n",
       " 'px_width',\n",
       " 'ram',\n",
       " 'sc_h',\n",
       " 'sc_w',\n",
       " 'talk_time',\n",
       " 'three_g',\n",
       " 'touch_screen',\n",
       " 'wifi']"
      ]
     },
     "execution_count": 101,
     "metadata": {},
     "output_type": "execute_result"
    }
   ],
   "source": [
    "filtered_columns"
   ]
  },
  {
   "cell_type": "markdown",
   "metadata": {},
   "source": [
    "### Define a function for processing"
   ]
  },
  {
   "cell_type": "code",
   "execution_count": 110,
   "metadata": {},
   "outputs": [],
   "source": [
    "def pre_processing(df):\n",
    "    # Drop columns from DataFrame\n",
    "    df = df[filtered_columns]\n",
    "    import pickle\n",
    "\n",
    "    # Load the scaler model from the pickle file\n",
    "    with open('scaler.pickle', 'rb') as f:\n",
    "        scaler = pickle.load(f)\n",
    "\n",
    "    # Apply standardization to your DataFrame\n",
    "    df_standardized = scaler.fit_transform(df)\n",
    "\n",
    "    # Convert the standardized array back to a DataFrame\n",
    "    df_standardized = pd.DataFrame(df_standardized,columns= df.columns)\n",
    "\n",
    "    return df_standardized\n",
    "    "
   ]
  },
  {
   "cell_type": "code",
   "execution_count": 111,
   "metadata": {},
   "outputs": [],
   "source": [
    "df_testing = pd.read_csv('test - test.csv', encoding='latin-1')"
   ]
  },
  {
   "cell_type": "code",
   "execution_count": 112,
   "metadata": {},
   "outputs": [],
   "source": [
    "X_test = pre_processing(df_testing)"
   ]
  },
  {
   "cell_type": "code",
   "execution_count": 141,
   "metadata": {},
   "outputs": [],
   "source": [
    "def pre_processing(test_point):\n",
    "    # Drop columns from DataFrame\n",
    "    filtered_columns = ['battery_power','blue','dual_sim','fc','four_g','int_memory','mobile_wt','pc','px_height','px_width','ram','sc_h','sc_w','talk_time','three_g','touch_screen','wifi']\n",
    "    indices_to_keep = [0, 1, 3, 4, 5, 6, 8, 10, 11, 12, 13, 14, 15, 16, 17, 18, 19]\n",
    "    # Convert indices to a set for efficient membership testing\n",
    "\n",
    "\n",
    "    new_arr = test_point[:,indices_to_keep]\n",
    "    print(new_arr.shape)\n",
    "\n",
    "    # Load the scaler model from the pickle file\n",
    "    with open('scaler.pickle', 'rb') as f:\n",
    "        scaler = pickle.load(f)\n",
    "\n",
    "    # Apply standardization to your DataFrame\n",
    "    test_standardized = scaler.fit_transform(new_arr)\n",
    "    # Convert the standardized array back to a DataFrame\n",
    "    test_standardized = pd.DataFrame(test_standardized,columns= filtered_columns)\n",
    "\n",
    "    return test_standardized"
   ]
  },
  {
   "cell_type": "code",
   "execution_count": 142,
   "metadata": {},
   "outputs": [],
   "source": [
    "features='1.0,2,3,4,5,6,7,8,9,10,11,12,13,14,15,16,17,18,19,20'\n",
    "features = np.array([float(x) for x in features.split(',')])"
   ]
  },
  {
   "cell_type": "code",
   "execution_count": 143,
   "metadata": {},
   "outputs": [
    {
     "name": "stdout",
     "output_type": "stream",
     "text": [
      "[ 1.  2.  3.  4.  5.  6.  7.  8.  9. 10. 11. 12. 13. 14. 15. 16. 17. 18.\n",
      " 19. 20.]\n"
     ]
    }
   ],
   "source": [
    "print(features)"
   ]
  },
  {
   "cell_type": "code",
   "execution_count": 144,
   "metadata": {},
   "outputs": [
    {
     "name": "stdout",
     "output_type": "stream",
     "text": [
      "(1, 17)\n"
     ]
    },
    {
     "data": {
      "text/html": [
       "<div>\n",
       "<style scoped>\n",
       "    .dataframe tbody tr th:only-of-type {\n",
       "        vertical-align: middle;\n",
       "    }\n",
       "\n",
       "    .dataframe tbody tr th {\n",
       "        vertical-align: top;\n",
       "    }\n",
       "\n",
       "    .dataframe thead th {\n",
       "        text-align: right;\n",
       "    }\n",
       "</style>\n",
       "<table border=\"1\" class=\"dataframe\">\n",
       "  <thead>\n",
       "    <tr style=\"text-align: right;\">\n",
       "      <th></th>\n",
       "      <th>battery_power</th>\n",
       "      <th>blue</th>\n",
       "      <th>dual_sim</th>\n",
       "      <th>fc</th>\n",
       "      <th>four_g</th>\n",
       "      <th>int_memory</th>\n",
       "      <th>mobile_wt</th>\n",
       "      <th>pc</th>\n",
       "      <th>px_height</th>\n",
       "      <th>px_width</th>\n",
       "      <th>ram</th>\n",
       "      <th>sc_h</th>\n",
       "      <th>sc_w</th>\n",
       "      <th>talk_time</th>\n",
       "      <th>three_g</th>\n",
       "      <th>touch_screen</th>\n",
       "      <th>wifi</th>\n",
       "    </tr>\n",
       "  </thead>\n",
       "  <tbody>\n",
       "    <tr>\n",
       "      <th>0</th>\n",
       "      <td>0.0</td>\n",
       "      <td>0.0</td>\n",
       "      <td>0.0</td>\n",
       "      <td>0.0</td>\n",
       "      <td>0.0</td>\n",
       "      <td>0.0</td>\n",
       "      <td>0.0</td>\n",
       "      <td>0.0</td>\n",
       "      <td>0.0</td>\n",
       "      <td>0.0</td>\n",
       "      <td>0.0</td>\n",
       "      <td>0.0</td>\n",
       "      <td>0.0</td>\n",
       "      <td>0.0</td>\n",
       "      <td>0.0</td>\n",
       "      <td>0.0</td>\n",
       "      <td>0.0</td>\n",
       "    </tr>\n",
       "  </tbody>\n",
       "</table>\n",
       "</div>"
      ],
      "text/plain": [
       "   battery_power  blue  dual_sim   fc  four_g  int_memory  mobile_wt   pc  \\\n",
       "0            0.0   0.0       0.0  0.0     0.0         0.0        0.0  0.0   \n",
       "\n",
       "   px_height  px_width  ram  sc_h  sc_w  talk_time  three_g  touch_screen  \\\n",
       "0        0.0       0.0  0.0   0.0   0.0        0.0      0.0           0.0   \n",
       "\n",
       "   wifi  \n",
       "0   0.0  "
      ]
     },
     "execution_count": 144,
     "metadata": {},
     "output_type": "execute_result"
    }
   ],
   "source": [
    "pre_processing(features.reshape(1, -1))"
   ]
  },
  {
   "cell_type": "code",
   "execution_count": null,
   "metadata": {},
   "outputs": [],
   "source": []
  }
 ],
 "metadata": {
  "kernelspec": {
   "display_name": "senior2",
   "language": "python",
   "name": "python3"
  },
  "language_info": {
   "codemirror_mode": {
    "name": "ipython",
    "version": 3
   },
   "file_extension": ".py",
   "mimetype": "text/x-python",
   "name": "python",
   "nbconvert_exporter": "python",
   "pygments_lexer": "ipython3",
   "version": "3.8.12"
  }
 },
 "nbformat": 4,
 "nbformat_minor": 2
}
